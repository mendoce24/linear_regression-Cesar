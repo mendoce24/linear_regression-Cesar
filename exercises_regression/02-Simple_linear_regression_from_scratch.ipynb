{
 "cells": [
  {
   "cell_type": "markdown",
   "metadata": {
    "id": "oGRCdv2_63Fm"
   },
   "source": [
    "# Linear regression\n",
    "\n",
    "Now that we've created our first learning machine model, let's see how it works under the hood."
   ]
  },
  {
   "cell_type": "markdown",
   "metadata": {
    "id": "4IHjwpyJmYz0"
   },
   "source": [
    "## How does it work?\n",
    "Here comes a part that some of you fear: Mathematics!    \n",
    "\n",
    "But don't worry, you'll see that it's not that complicated.\n",
    "\n",
    "In this notebook, everytime we will talk about programming variables, we will format the names like `this`. \n",
    "For mathematical variables and functions, we'll be formatting them like $this$.\n",
    "\n",
    "### How to calculate the y-axis from the x-axis?"
   ]
  },
  {
   "cell_type": "markdown",
   "metadata": {
    "id": "rPLnFMBxs4C9"
   },
   "source": [
    "A linear model is in fact based on a simple [affine function.](https://fr.wikipedia.org/wiki/Fonction_affine) !"
   ]
  },
  {
   "cell_type": "markdown",
   "metadata": {
    "id": "2XTFIZfapioo"
   },
   "source": [
    "$$f(x) = ax + b$$\n",
    "or ...\n",
    "$$y = f(x) = ax + b$$\n",
    "or..."
   ]
  },
  {
   "cell_type": "markdown",
   "metadata": {},
   "source": [
    "```py\n",
    "y = a*x + b\n",
    "```"
   ]
  },
  {
   "cell_type": "markdown",
   "metadata": {},
   "source": [
    "**Exercise :** Create a function `f` which receives as a parameter the variables `x`,`a` and `b` and returns `y`."
   ]
  },
  {
   "cell_type": "code",
   "execution_count": 1,
   "metadata": {},
   "outputs": [],
   "source": [
    "def f(x,a,b):\n",
    "    y = a*x+b\n",
    "    return y"
   ]
  },
  {
   "cell_type": "markdown",
   "metadata": {},
   "source": [
    "This function will allow us to create a straight line that passes through all the points as well as possible. For the moment, we do not know the value of parameters $a$ and $b$, so it is impossible to draw a good straight line on the scatter plot, unless we choose parameters at random. And that is what we are going to do."
   ]
  },
  {
   "cell_type": "markdown",
   "metadata": {
    "id": "nl6jA7JTdoO8"
   },
   "source": [
    "\n",
    "The linear model with random parameters would look something like this: "
   ]
  },
  {
   "cell_type": "markdown",
   "metadata": {
    "id": "a6Va6jerdvjC"
   },
   "source": [
    "![image.png](./assets/random_bias.png)\n"
   ]
  },
  {
   "cell_type": "markdown",
   "metadata": {
    "id": "2x4DbSIbeQNA"
   },
   "source": [
    "But we want to achieve this result:"
   ]
  },
  {
   "cell_type": "markdown",
   "metadata": {
    "id": "w7hNlrnOezsy"
   },
   "source": [
    "![](./assets/trained_bias.png)"
   ]
  },
  {
   "cell_type": "markdown",
   "metadata": {
    "id": "mKo1rgh_fA7O"
   },
   "source": [
    "And it will be the role of the machine to learn how to find these values ($a$ and $b$) by minimizing the cost function that we will see in detail in the next chapter.\n",
    "\n",
    "Before we do that, we need to look at the small problem we have with this method. The function as written above only take one element, $x$. However, in the next sections, we are going to have multiple values for $x$, in a vector $X$. We'll thus denote a single item with an index $i$, like $x^{i}$. If we execute the function as is, we would have to make a loop for each element $x^{i}$ of our dataset. \n",
    "\n",
    "$$\n",
    "X = \n",
    "\\begin{bmatrix}\n",
    "x^{(1)}\\\\\n",
    "x^{(2)}\\\\\n",
    "x^{(3)}\\\\\n",
    "... \\\\\n",
    "x^{(m)}\\\\\n",
    "\\end{bmatrix}\n",
    "$$\n",
    "\n",
    "This can be very expensive in terms of machine resources. If your dataset is very large, it will take a lot of time to train your model. \n",
    "\n",
    "To solve this problem, it is customary to use something you are beginning to know, matrices! \n",
    "\n",
    "The matrices allow us to perform the function only once on our entire dataset. \n",
    "\n",
    "The matrix writing of $f(x)=ax+b$ is written like this:\n",
    "$$ F = X \\cdot \\theta$$\n",
    "\n",
    "As these are matrices that contain all the data, by convention, we put them in uppercase.\n",
    "\n",
    "The variable $F$ will contain a matrix with the set of predictions of $x^{(i)}$. \n",
    "\n",
    "$$ \n",
    "F \\\\\n",
    "\\begin{bmatrix}\n",
    "f(x^{(1)})\\\\\n",
    "f(x^{(2)})\\\\\n",
    "f(x^{(3)})\\\\\n",
    "... \\\\\n",
    "f(x^{(m)})\\\\\n",
    "\\end{bmatrix}\n",
    "$$"
   ]
  },
  {
   "cell_type": "markdown",
   "metadata": {},
   "source": [
    "The variable $\\theta$ (pronounced theta) will contain a vector with the values $a$ and $b$."
   ]
  },
  {
   "cell_type": "markdown",
   "metadata": {},
   "source": [
    "$$\n",
    "\\theta \\\\\n",
    "\\begin{bmatrix}\n",
    "a \\\\\n",
    "b \\\\\n",
    "\\end{bmatrix}\n",
    "$$"
   ]
  },
  {
   "cell_type": "markdown",
   "metadata": {},
   "source": [
    "The variable $X$ will contain a matrix with two dimensions, one dimension with the value of $x^{(i)}$ and another dimension with 1's everywhere.  Why? Because we have to multiply our $X$ and $\\theta$ matrices. Remember [matrix multiplication](https://www.mathsisfun.com/algebra/matrix-multiplying.html)?\n",
    "$$ \n",
    "\\begin{equation*}\n",
    "\\begin{bmatrix}\n",
    "x^{(1)} && 1\\\\\n",
    "x^{(2)} && 1\\\\\n",
    "x^{(3)} && 1\\\\\n",
    "... \\\\\n",
    "x^{(m)} && 1\\\\\n",
    "\\end{bmatrix}\n",
    "\\cdot\n",
    "\\begin{bmatrix}\n",
    "a \\\\\n",
    "b \\\\\n",
    "\\end{bmatrix}\n",
    "\\end{equation*}\n",
    "$$\n",
    "\n",
    "![](./assets/dot_mat.jpg)"
   ]
  },
  {
   "cell_type": "markdown",
   "metadata": {},
   "source": [
    "Which amounts to writing this for $y^{(1)}$ (and for every other $y^{(i)}$): \n",
    "$$ y^{(1)} = x^{(1)}* a + 1 * b$$\n",
    "\n",
    "And if we simplify:\n",
    "$$ y^{(1)} = ax^{(1)} + b$$\n",
    "\n",
    "\n",
    "So we are back to our original function.\n"
   ]
  },
  {
   "cell_type": "markdown",
   "metadata": {},
   "source": [
    "**Exercise :**\n",
    "1. Create a variable `X` which contains a matrix of shape `(30,2)` with a column filled with values of our dataframe (the same as the first notebook) and then another one with 1's. \n",
    "2. Create the `theta` variable which contains a vector with 2 random values.\n",
    "3. Create a variable `F` which contains a multiplication of the matrix `X` with the `theta` vector."
   ]
  },
  {
   "cell_type": "code",
   "execution_count": 2,
   "metadata": {},
   "outputs": [
    {
     "name": "stdout",
     "output_type": "stream",
     "text": [
      "[[1.1 1. ]\n",
      " [1.3 1. ]\n",
      " [1.5 1. ]\n",
      " [2.  1. ]\n",
      " [2.2 1. ]]\n",
      "[[1.76405235]\n",
      " [0.40015721]]\n",
      "[[2.34061479]\n",
      " [2.69342526]\n",
      " [3.04623573]\n",
      " [3.9282619 ]\n",
      " [4.28107237]]\n"
     ]
    }
   ],
   "source": [
    "import numpy as np\n",
    "import pandas as pd\n",
    "\n",
    "df = pd.read_csv(\"./data/salary_data.csv\")\n",
    "x = np.array(df.drop(columns=[\"Salary\"]))\n",
    "y = np.array(df.Salary).reshape(-1 , 1)\n",
    "\n",
    "X = np.hstack((x, np.ones(x.shape)))\n",
    "print(X[0:5])\n",
    "np.random.seed(0) \n",
    "theta = np.random.randn(2,1)\n",
    "print(theta)\n",
    "\n",
    "F = X.dot(theta)\n",
    "print(F[0:5])"
   ]
  },
  {
   "cell_type": "markdown",
   "metadata": {},
   "source": [
    "**Exercise :** Create a `model` function that receives as parameter `X` and `theta`.  The function must compute and return `F`. "
   ]
  },
  {
   "cell_type": "code",
   "execution_count": 3,
   "metadata": {},
   "outputs": [],
   "source": [
    "def model(X, theta):\n",
    "    F = X.dot(theta)\n",
    "    return F"
   ]
  },
  {
   "cell_type": "markdown",
   "metadata": {},
   "source": [
    "**Exercise :** Create a `y_pred` variable, call the `model` function with `X` and  `theta` and assign it to `y_pred`."
   ]
  },
  {
   "cell_type": "code",
   "execution_count": 4,
   "metadata": {},
   "outputs": [
    {
     "name": "stdout",
     "output_type": "stream",
     "text": [
      "Shape of y_pred :  (30, 1)\n",
      "[[2.34061479]\n",
      " [2.69342526]\n",
      " [3.04623573]\n",
      " [3.9282619 ]\n",
      " [4.28107237]]\n"
     ]
    }
   ],
   "source": [
    "y_pred = model(X, theta)\n",
    "print(\"Shape of y_pred : \", y_pred.shape)\n",
    "print(y_pred[:5])"
   ]
  },
  {
   "cell_type": "markdown",
   "metadata": {},
   "source": [
    "Now we know how to apply our model to our entire dataset. Now we have to know how to find the right values for $a$ and $b$. For that we will have to calculate the average of all our errors with a cost function."
   ]
  },
  {
   "cell_type": "markdown",
   "metadata": {
    "id": "XKaQ28Hafn_h"
   },
   "source": [
    "### Cost function"
   ]
  },
  {
   "cell_type": "markdown",
   "metadata": {
    "id": "VRBuUaU2ftck"
   },
   "source": [
    "The cost function allows us to evaluate the performance of our model by measuring the errors between the prediction and the actual value. The question we ask ourselves is: How to measure these errors?\n",
    "\n",
    "Imagine that you have 4 years of experience and that you earn $110000€$ per year. Your machine learning model predicts that this salary is worth $€90000$. You can conclude that your model therefore makes an error of $90000 - 110000 = -20000 €$.\n",
    "\n",
    "Thus, you could say that to measure your errors, you have to calculate the difference $f(x)-y$. However, if your prediction $f(x)$ is less than $y$, then this error is negative (as in the example above), and it is not very practical to minimize this function.\n",
    "\n",
    "So, to measure the errors between the $f(x)$ predictions and the target values $y$ of the dataset, we calculate the square of the difference: $(f(x)-y)^2$. This, by the way, is what is called the Euclidean norm, which represents the direct distance between $f(x)$ and $y$ in Euclidean geometry.\n"
   ]
  },
  {
   "cell_type": "markdown",
   "metadata": {
    "id": "yJFTEvD8wb7b"
   },
   "source": [
    "\n",
    "\n",
    "![image.png](./assets/eucli.JPG)"
   ]
  },
  {
   "cell_type": "markdown",
   "metadata": {
    "id": "xa-c_X4xt2vO"
   },
   "source": [
    "But this is not enough. Indeed, we have the error of a single example. But we must have the average of all the errors of all the points. \n",
    "\n",
    "We could write it like this: \n",
    "\n",
    "\n",
    "\n",
    "$$MSE(a,b) = {\\dfrac{(f(x^{(1)})- y^{(1)})^2 + (f(x^{(2)})- y^{(2)})^2  + ... +(f(x^{(m)})- y^{(m)})^2}{m}}$$"
   ]
  },
  {
   "cell_type": "markdown",
   "metadata": {
    "id": "1GUWy24S5b27"
   },
   "source": [
    "Why $MSE$? Because this function is called **Mean Squared Error**"
   ]
  },
  {
   "cell_type": "markdown",
   "metadata": {
    "id": "ImWIompHxm2Q"
   },
   "source": [
    "By convention this function is written in the following way, adding a coefficient $\\frac{1}{2}$ to simplify a derivative calculation that will come later.\n",
    "\n",
    "$$ MSE(a, b) = {\\dfrac{1}{2m}} \\sum _ {i=1}^m (f(x^{(i)}) - y^{(i)})^2$$\n",
    "\n",
    "Or\n",
    "\n",
    "$$ MSE(a, b) = {\\dfrac{1}{2m}} \\sum _ {i=1}^m (ax^{(i)} +b - y^{(i)})^2$$\n"
   ]
  },
  {
   "cell_type": "markdown",
   "metadata": {},
   "source": [
    "But as we work with matrices, we also have to transcribe our formula which becomes : \n",
    "\n",
    "$$MSE(\\theta) = \\frac {1}{2m}  \\sum (X \\cdot \\theta - Y)^2$$"
   ]
  },
  {
   "cell_type": "markdown",
   "metadata": {},
   "source": [
    "or something **similar** to this: \n",
    "\n",
    "```py\n",
    "MSE = 1/(2*m) * sum((X * theta - y)**2)\n",
    "```"
   ]
  },
  {
   "cell_type": "markdown",
   "metadata": {
    "id": "47zckFxMQiVs"
   },
   "source": [
    "**Exercise :** Create a `MSE` function that receives as parameter `X, y and theta` using the example above."
   ]
  },
  {
   "cell_type": "code",
   "execution_count": 5,
   "metadata": {},
   "outputs": [],
   "source": [
    "def MSE(X, y, theta):\n",
    "    m = len(y)\n",
    "    y_pred = model(X, theta)\n",
    "    mse = 1/(2*m) * sum((y_pred - y)**2)\n",
    "    return mse"
   ]
  },
  {
   "cell_type": "code",
   "execution_count": 6,
   "metadata": {
    "id": "CRRlqkpmQdk7"
   },
   "outputs": [
    {
     "name": "stdout",
     "output_type": "stream",
     "text": [
      "[3.25060513e+09]\n"
     ]
    }
   ],
   "source": [
    "error = MSE(X,y,theta)\n",
    "print(error)"
   ]
  },
  {
   "cell_type": "markdown",
   "metadata": {
    "id": "s_2cfr2DOB9X"
   },
   "source": [
    "### Minimize the cost function.\n",
    "\n",
    "\n",
    "\n",
    "If the cost function is omitted with respect to the parameter, it looks something like this:"
   ]
  },
  {
   "cell_type": "markdown",
   "metadata": {
    "id": "ASRXsJyO__ic"
   },
   "source": [
    "![image.png](./assets/convexe.png)"
   ]
  },
  {
   "cell_type": "markdown",
   "metadata": {
    "id": "55-cHhR_DBNI"
   },
   "source": [
    "The aim is therefore to reach the lowest point of the curve, i.e. the lowest possible sum of errors. "
   ]
  },
  {
   "cell_type": "markdown",
   "metadata": {
    "id": "cqyzIhPKDMc_"
   },
   "source": [
    "![image.png](./assets/gradient_descent.png)"
   ]
  },
  {
   "cell_type": "markdown",
   "metadata": {},
   "source": [
    "To do this, there are several function minimization algorithms, such as the least squares method or **gradient descent**. We will focus here on gradient descent because it is one of the most widely used."
   ]
  },
  {
   "cell_type": "markdown",
   "metadata": {
    "id": "7gmDtf6l-f7T"
   },
   "source": [
    "Gradient descent is an iterative algorithm which therefore proceeds by progressive improvements. For a linear problem, this algorithm needs to have two hyper-parameters :\n",
    "\n",
    "**1. The number of iterations :** As its name indicates, this is the parameter that will determine the number of iterations.\n",
    "\n",
    "**2. The learning rate :** This is the length of the step between each iteration. "
   ]
  },
  {
   "cell_type": "markdown",
   "metadata": {
    "id": "KMJ0V9J6HQZa"
   },
   "source": [
    "![learningrate](./assets/gradient_descent_1.gif)"
   ]
  },
  {
   "cell_type": "markdown",
   "metadata": {},
   "source": [
    "It is important to clearly define the learning rate. If you set a high value, the algorithm will be faster, but you risk never reaching the lowest point of the curve, the steps being too big. Our model will never be able to work since it cannot find the minimum of the cost function."
   ]
  },
  {
   "cell_type": "markdown",
   "metadata": {
    "id": "TASxiF6zHnq0"
   },
   "source": [
    "![](./assets/gradient_descent_2.gif)"
   ]
  },
  {
   "cell_type": "markdown",
   "metadata": {},
   "source": [
    "Conversely, if you set a small value, then the algorithm will find the lowest point of the curve, but it will be slower."
   ]
  },
  {
   "cell_type": "markdown",
   "metadata": {
    "id": "9on9fx_9HhYb"
   },
   "source": [
    "![learning rate](./assets/gradient_descent_3.gif)"
   ]
  },
  {
   "cell_type": "markdown",
   "metadata": {},
   "source": [
    "At each iteration, we will have to calculate the regression slope. \n",
    "![](./assets/derivative.gif)"
   ]
  },
  {
   "cell_type": "markdown",
   "metadata": {},
   "source": [
    "And in mathematics we calculate a slope with a [partial derivative](https://en.wikipedia.org/wiki/Partial_derivative#:~:text=In%20mathematics%2C%20a%20partial%20derivative,vector%20calculus%20and%20differential%20geometry.). The symbol used to denote partial derivatives is $\\partial$. "
   ]
  },
  {
   "cell_type": "markdown",
   "metadata": {},
   "source": [
    "$$ \\frac {\\partial MSE(\\theta) }{\\partial \\theta}  = \\frac {1}{m} X^T \\cdot (X \\cdot \\theta - Y)$$\n",
    "\n",
    "The  $^T$ in $X^T$ is to transpose the matrix, just like in numpy."
   ]
  },
  {
   "cell_type": "markdown",
   "metadata": {},
   "source": [
    "You could translate this into code like this:\n",
    "\n",
    "```py\n",
    "1/m * X.T.dot(model(X, theta) - y)\n",
    "```\n",
    "\n"
   ]
  },
  {
   "cell_type": "code",
   "execution_count": 7,
   "metadata": {},
   "outputs": [],
   "source": [
    "def grad(X, y, theta):\n",
    "    m = len(y)\n",
    "    return 1/m * X.T.dot(model(X, theta) - y)"
   ]
  },
  {
   "cell_type": "markdown",
   "metadata": {},
   "source": [
    "We still have to write the gradient descent. \n",
    "\n",
    "$$\\theta = \\theta - \\eta *  \\frac {\\partial MSE(\\theta) }{\\partial \\theta}$$\n",
    "\n",
    "The variable $\\eta$ is the learning rate. So at each iteration, we redefine $\\theta$. We do : `theta` - `learning_rate` multiplied by the partial derivative of mean squared error. You could translate this into code like this:"
   ]
  },
  {
   "cell_type": "markdown",
   "metadata": {},
   "source": [
    "```py\n",
    "theta = theta - learning_rate * grad(X, y, theta)\n",
    "```"
   ]
  },
  {
   "cell_type": "markdown",
   "metadata": {},
   "source": [
    "**Exercise :**\n",
    "1. Create a `gradient_descent` function that receives as parameter `X`, `y`, `theta`, `learning_rate` and `n_iterations`.\n",
    "2. In the function, create a variable `cost_history` with a matrix filled with 0 and which has a length of `n_iterations`. We will use it to display the plot of the model learning process.\n",
    "3. Create a loop that iterates up to `n_iterations`.\n",
    "4. In the loop, update `theta` with the formula of the gradient descent (the example above).\n",
    "5. In the loop, update `cost_history[i]` with the values of `MSE(X,y,theta)`.\n",
    "6. return `theta` and `cost_history`."
   ]
  },
  {
   "cell_type": "code",
   "execution_count": 8,
   "metadata": {},
   "outputs": [],
   "source": [
    "def gradient_descent(X, y, theta, learning_rate, n_iterations):\n",
    "    cost_history = np.zeros(n_iterations)\n",
    "    \n",
    "    for n in range(0, n_iterations):\n",
    "        theta = theta - learning_rate * grad(X, y, theta)\n",
    "        cost_history[n] = MSE(X, y, theta)\n",
    "    print(theta)\n",
    "    print(cost_history)\n",
    "    return theta, cost_history"
   ]
  },
  {
   "cell_type": "markdown",
   "metadata": {},
   "source": [
    "### Train your model\n",
    "\n",
    "Now that we know which algorithm is used to minimize the cost function, we train our model.   \n",
    "We define a number of iterations, and a learning step $\\alpha$, and here we go!\n",
    "\n",
    "Once the model is trained, we observe the results compared to our dataset.\n",
    "\n",
    "**Exercise :** Create variables `n_iterations` and `learning_rate`. \n",
    "The learning rate and the number of iterations are defined by trying around a little bit. You have to try several things, there is no magic number. However, starting with 1000 iterations and a learning rate of 0.01 is a good basis to start training."
   ]
  },
  {
   "cell_type": "code",
   "execution_count": 9,
   "metadata": {},
   "outputs": [],
   "source": [
    "n_iterations = 1000\n",
    "learning_rate = 0.01"
   ]
  },
  {
   "cell_type": "markdown",
   "metadata": {},
   "source": [
    "**Exercise:** Create variables `theta_final`, `cost history` and call `gradient_descent()`."
   ]
  },
  {
   "cell_type": "code",
   "execution_count": 10,
   "metadata": {},
   "outputs": [
    {
     "name": "stdout",
     "output_type": "stream",
     "text": [
      "[[ 9876.11033506]\n",
      " [22920.50184159]]\n",
      "[1.34426366e+09 5.82793903e+08 2.78539608e+08 1.56879074e+08\n",
      " 1.08139652e+08 8.85225778e+07 8.05364206e+07 7.71958165e+07\n",
      " 7.57110950e+07 7.49681736e+07 7.45221304e+07 7.41952794e+07\n",
      " 7.39166573e+07 7.36579218e+07 7.34077513e+07 7.31616219e+07\n",
      " 7.29177242e+07 7.26753332e+07 7.24341566e+07 7.21940750e+07\n",
      " 7.19550384e+07 7.17170240e+07 7.14800203e+07 7.12440201e+07\n",
      " 7.10090181e+07 7.07750094e+07 7.05419898e+07 7.03099550e+07\n",
      " 7.00789008e+07 6.98488230e+07 6.96197176e+07 6.93915803e+07\n",
      " 6.91644071e+07 6.89381940e+07 6.87129369e+07 6.84886317e+07\n",
      " 6.82652744e+07 6.80428610e+07 6.78213875e+07 6.76008500e+07\n",
      " 6.73812444e+07 6.71625670e+07 6.69448136e+07 6.67279805e+07\n",
      " 6.65120637e+07 6.62970594e+07 6.60829637e+07 6.58697727e+07\n",
      " 6.56574827e+07 6.54460898e+07 6.52355903e+07 6.50259804e+07\n",
      " 6.48172562e+07 6.46094142e+07 6.44024504e+07 6.41963613e+07\n",
      " 6.39911431e+07 6.37867922e+07 6.35833049e+07 6.33806775e+07\n",
      " 6.31789064e+07 6.29779880e+07 6.27779187e+07 6.25786948e+07\n",
      " 6.23803129e+07 6.21827693e+07 6.19860606e+07 6.17901832e+07\n",
      " 6.15951335e+07 6.14009081e+07 6.12075035e+07 6.10149162e+07\n",
      " 6.08231428e+07 6.06321799e+07 6.04420239e+07 6.02526716e+07\n",
      " 6.00641194e+07 5.98763641e+07 5.96894022e+07 5.95032304e+07\n",
      " 5.93178454e+07 5.91332439e+07 5.89494224e+07 5.87663778e+07\n",
      " 5.85841067e+07 5.84026059e+07 5.82218721e+07 5.80419021e+07\n",
      " 5.78626927e+07 5.76842406e+07 5.75065426e+07 5.73295956e+07\n",
      " 5.71533964e+07 5.69779417e+07 5.68032286e+07 5.66292538e+07\n",
      " 5.64560142e+07 5.62835067e+07 5.61117282e+07 5.59406757e+07\n",
      " 5.57703460e+07 5.56007362e+07 5.54318431e+07 5.52636637e+07\n",
      " 5.50961951e+07 5.49294342e+07 5.47633781e+07 5.45980236e+07\n",
      " 5.44333680e+07 5.42694082e+07 5.41061413e+07 5.39435644e+07\n",
      " 5.37816745e+07 5.36204688e+07 5.34599443e+07 5.33000982e+07\n",
      " 5.31409276e+07 5.29824297e+07 5.28246016e+07 5.26674404e+07\n",
      " 5.25109434e+07 5.23551078e+07 5.21999307e+07 5.20454094e+07\n",
      " 5.18915412e+07 5.17383231e+07 5.15857526e+07 5.14338268e+07\n",
      " 5.12825431e+07 5.11318987e+07 5.09818909e+07 5.08325170e+07\n",
      " 5.06837744e+07 5.05356604e+07 5.03881723e+07 5.02413075e+07\n",
      " 5.00950634e+07 4.99494372e+07 4.98044265e+07 4.96600286e+07\n",
      " 4.95162410e+07 4.93730609e+07 4.92304860e+07 4.90885136e+07\n",
      " 4.89471411e+07 4.88063661e+07 4.86661860e+07 4.85265983e+07\n",
      " 4.83876005e+07 4.82491901e+07 4.81113647e+07 4.79741216e+07\n",
      " 4.78374586e+07 4.77013731e+07 4.75658627e+07 4.74309250e+07\n",
      " 4.72965575e+07 4.71627579e+07 4.70295237e+07 4.68968525e+07\n",
      " 4.67647420e+07 4.66331898e+07 4.65021935e+07 4.63717509e+07\n",
      " 4.62418595e+07 4.61125170e+07 4.59837211e+07 4.58554695e+07\n",
      " 4.57277599e+07 4.56005899e+07 4.54739575e+07 4.53478601e+07\n",
      " 4.52222957e+07 4.50972618e+07 4.49727564e+07 4.48487771e+07\n",
      " 4.47253218e+07 4.46023882e+07 4.44799741e+07 4.43580773e+07\n",
      " 4.42366957e+07 4.41158270e+07 4.39954691e+07 4.38756199e+07\n",
      " 4.37562771e+07 4.36374387e+07 4.35191024e+07 4.34012663e+07\n",
      " 4.32839281e+07 4.31670859e+07 4.30507374e+07 4.29348805e+07\n",
      " 4.28195133e+07 4.27046336e+07 4.25902395e+07 4.24763287e+07\n",
      " 4.23628993e+07 4.22499493e+07 4.21374766e+07 4.20254792e+07\n",
      " 4.19139551e+07 4.18029024e+07 4.16923189e+07 4.15822027e+07\n",
      " 4.14725519e+07 4.13633645e+07 4.12546385e+07 4.11463720e+07\n",
      " 4.10385630e+07 4.09312097e+07 4.08243100e+07 4.07178620e+07\n",
      " 4.06118639e+07 4.05063138e+07 4.04012097e+07 4.02965497e+07\n",
      " 4.01923321e+07 4.00885549e+07 3.99852163e+07 3.98823143e+07\n",
      " 3.97798472e+07 3.96778132e+07 3.95762103e+07 3.94750369e+07\n",
      " 3.93742909e+07 3.92739708e+07 3.91740746e+07 3.90746005e+07\n",
      " 3.89755468e+07 3.88769117e+07 3.87786935e+07 3.86808903e+07\n",
      " 3.85835005e+07 3.84865222e+07 3.83899537e+07 3.82937933e+07\n",
      " 3.81980394e+07 3.81026900e+07 3.80077436e+07 3.79131985e+07\n",
      " 3.78190529e+07 3.77253052e+07 3.76319536e+07 3.75389965e+07\n",
      " 3.74464323e+07 3.73542593e+07 3.72624758e+07 3.71710801e+07\n",
      " 3.70800707e+07 3.69894459e+07 3.68992041e+07 3.68093436e+07\n",
      " 3.67198629e+07 3.66307604e+07 3.65420343e+07 3.64536833e+07\n",
      " 3.63657056e+07 3.62780997e+07 3.61908640e+07 3.61039970e+07\n",
      " 3.60174971e+07 3.59313627e+07 3.58455924e+07 3.57601845e+07\n",
      " 3.56751375e+07 3.55904499e+07 3.55061203e+07 3.54221470e+07\n",
      " 3.53385286e+07 3.52552635e+07 3.51723503e+07 3.50897876e+07\n",
      " 3.50075737e+07 3.49257073e+07 3.48441868e+07 3.47630108e+07\n",
      " 3.46821779e+07 3.46016866e+07 3.45215355e+07 3.44417230e+07\n",
      " 3.43622479e+07 3.42831086e+07 3.42043037e+07 3.41258319e+07\n",
      " 3.40476917e+07 3.39698817e+07 3.38924006e+07 3.38152469e+07\n",
      " 3.37384192e+07 3.36619162e+07 3.35857365e+07 3.35098788e+07\n",
      " 3.34343416e+07 3.33591236e+07 3.32842236e+07 3.32096400e+07\n",
      " 3.31353716e+07 3.30614171e+07 3.29877751e+07 3.29144444e+07\n",
      " 3.28414235e+07 3.27687112e+07 3.26963062e+07 3.26242072e+07\n",
      " 3.25524128e+07 3.24809219e+07 3.24097331e+07 3.23388451e+07\n",
      " 3.22682567e+07 3.21979666e+07 3.21279736e+07 3.20582763e+07\n",
      " 3.19888736e+07 3.19197642e+07 3.18509469e+07 3.17824203e+07\n",
      " 3.17141834e+07 3.16462348e+07 3.15785734e+07 3.15111979e+07\n",
      " 3.14441071e+07 3.13772999e+07 3.13107750e+07 3.12445312e+07\n",
      " 3.11785674e+07 3.11128823e+07 3.10474749e+07 3.09823438e+07\n",
      " 3.09174880e+07 3.08529062e+07 3.07885974e+07 3.07245603e+07\n",
      " 3.06607939e+07 3.05972970e+07 3.05340683e+07 3.04711069e+07\n",
      " 3.04084116e+07 3.03459812e+07 3.02838147e+07 3.02219108e+07\n",
      " 3.01602686e+07 3.00988868e+07 3.00377645e+07 2.99769005e+07\n",
      " 2.99162936e+07 2.98559430e+07 2.97958473e+07 2.97360056e+07\n",
      " 2.96764168e+07 2.96170798e+07 2.95579936e+07 2.94991571e+07\n",
      " 2.94405692e+07 2.93822289e+07 2.93241352e+07 2.92662869e+07\n",
      " 2.92086832e+07 2.91513228e+07 2.90942049e+07 2.90373283e+07\n",
      " 2.89806921e+07 2.89242953e+07 2.88681368e+07 2.88122156e+07\n",
      " 2.87565307e+07 2.87010812e+07 2.86458660e+07 2.85908841e+07\n",
      " 2.85361346e+07 2.84816164e+07 2.84273287e+07 2.83732703e+07\n",
      " 2.83194404e+07 2.82658380e+07 2.82124622e+07 2.81593119e+07\n",
      " 2.81063862e+07 2.80536841e+07 2.80012048e+07 2.79489473e+07\n",
      " 2.78969106e+07 2.78450938e+07 2.77934960e+07 2.77421162e+07\n",
      " 2.76909536e+07 2.76400072e+07 2.75892760e+07 2.75387593e+07\n",
      " 2.74884561e+07 2.74383654e+07 2.73884864e+07 2.73388182e+07\n",
      " 2.72893599e+07 2.72401107e+07 2.71910695e+07 2.71422356e+07\n",
      " 2.70936081e+07 2.70451860e+07 2.69969686e+07 2.69489550e+07\n",
      " 2.69011443e+07 2.68535356e+07 2.68061281e+07 2.67589209e+07\n",
      " 2.67119133e+07 2.66651043e+07 2.66184931e+07 2.65720789e+07\n",
      " 2.65258608e+07 2.64798381e+07 2.64340099e+07 2.63883753e+07\n",
      " 2.63429336e+07 2.62976839e+07 2.62526254e+07 2.62077574e+07\n",
      " 2.61630789e+07 2.61185893e+07 2.60742877e+07 2.60301733e+07\n",
      " 2.59862453e+07 2.59425030e+07 2.58989456e+07 2.58555722e+07\n",
      " 2.58123821e+07 2.57693745e+07 2.57265487e+07 2.56839038e+07\n",
      " 2.56414392e+07 2.55991540e+07 2.55570475e+07 2.55151190e+07\n",
      " 2.54733676e+07 2.54317927e+07 2.53903935e+07 2.53491693e+07\n",
      " 2.53081192e+07 2.52672427e+07 2.52265388e+07 2.51860070e+07\n",
      " 2.51456465e+07 2.51054566e+07 2.50654365e+07 2.50255855e+07\n",
      " 2.49859029e+07 2.49463880e+07 2.49070401e+07 2.48678585e+07\n",
      " 2.48288425e+07 2.47899913e+07 2.47513044e+07 2.47127809e+07\n",
      " 2.46744202e+07 2.46362217e+07 2.45981846e+07 2.45603082e+07\n",
      " 2.45225919e+07 2.44850349e+07 2.44476367e+07 2.44103966e+07\n",
      " 2.43733138e+07 2.43363877e+07 2.42996177e+07 2.42630030e+07\n",
      " 2.42265431e+07 2.41902373e+07 2.41540849e+07 2.41180853e+07\n",
      " 2.40822378e+07 2.40465418e+07 2.40109966e+07 2.39756017e+07\n",
      " 2.39403564e+07 2.39052600e+07 2.38703119e+07 2.38355115e+07\n",
      " 2.38008582e+07 2.37663513e+07 2.37319902e+07 2.36977744e+07\n",
      " 2.36637031e+07 2.36297758e+07 2.35959920e+07 2.35623508e+07\n",
      " 2.35288519e+07 2.34954945e+07 2.34622781e+07 2.34292020e+07\n",
      " 2.33962658e+07 2.33634687e+07 2.33308102e+07 2.32982897e+07\n",
      " 2.32659067e+07 2.32336605e+07 2.32015506e+07 2.31695764e+07\n",
      " 2.31377373e+07 2.31060328e+07 2.30744622e+07 2.30430251e+07\n",
      " 2.30117208e+07 2.29805488e+07 2.29495086e+07 2.29185995e+07\n",
      " 2.28878210e+07 2.28571726e+07 2.28266538e+07 2.27962639e+07\n",
      " 2.27660024e+07 2.27358688e+07 2.27058626e+07 2.26759831e+07\n",
      " 2.26462300e+07 2.26166025e+07 2.25871003e+07 2.25577228e+07\n",
      " 2.25284694e+07 2.24993396e+07 2.24703329e+07 2.24414488e+07\n",
      " 2.24126868e+07 2.23840463e+07 2.23555269e+07 2.23271280e+07\n",
      " 2.22988491e+07 2.22706897e+07 2.22426493e+07 2.22147274e+07\n",
      " 2.21869235e+07 2.21592371e+07 2.21316677e+07 2.21042148e+07\n",
      " 2.20768779e+07 2.20496566e+07 2.20225503e+07 2.19955585e+07\n",
      " 2.19686808e+07 2.19419167e+07 2.19152657e+07 2.18887273e+07\n",
      " 2.18623011e+07 2.18359866e+07 2.18097832e+07 2.17836906e+07\n",
      " 2.17577083e+07 2.17318357e+07 2.17060725e+07 2.16804182e+07\n",
      " 2.16548723e+07 2.16294343e+07 2.16041039e+07 2.15788805e+07\n",
      " 2.15537637e+07 2.15287530e+07 2.15038480e+07 2.14790483e+07\n",
      " 2.14543534e+07 2.14297628e+07 2.14052762e+07 2.13808930e+07\n",
      " 2.13566129e+07 2.13324354e+07 2.13083601e+07 2.12843865e+07\n",
      " 2.12605142e+07 2.12367428e+07 2.12130718e+07 2.11895009e+07\n",
      " 2.11660296e+07 2.11426575e+07 2.11193842e+07 2.10962092e+07\n",
      " 2.10731322e+07 2.10501527e+07 2.10272702e+07 2.10044845e+07\n",
      " 2.09817951e+07 2.09592016e+07 2.09367035e+07 2.09143006e+07\n",
      " 2.08919923e+07 2.08697782e+07 2.08476581e+07 2.08256314e+07\n",
      " 2.08036978e+07 2.07818570e+07 2.07601084e+07 2.07384517e+07\n",
      " 2.07168865e+07 2.06954125e+07 2.06740292e+07 2.06527363e+07\n",
      " 2.06315334e+07 2.06104200e+07 2.05893959e+07 2.05684607e+07\n",
      " 2.05476139e+07 2.05268552e+07 2.05061843e+07 2.04856007e+07\n",
      " 2.04651041e+07 2.04446941e+07 2.04243703e+07 2.04041325e+07\n",
      " 2.03839801e+07 2.03639130e+07 2.03439306e+07 2.03240327e+07\n",
      " 2.03042189e+07 2.02844888e+07 2.02648420e+07 2.02452784e+07\n",
      " 2.02257973e+07 2.02063987e+07 2.01870819e+07 2.01678469e+07\n",
      " 2.01486931e+07 2.01296202e+07 2.01106280e+07 2.00917160e+07\n",
      " 2.00728840e+07 2.00541315e+07 2.00354583e+07 2.00168639e+07\n",
      " 1.99983482e+07 1.99799107e+07 1.99615511e+07 1.99432692e+07\n",
      " 1.99250644e+07 1.99069367e+07 1.98888855e+07 1.98709106e+07\n",
      " 1.98530116e+07 1.98351883e+07 1.98174404e+07 1.97997674e+07\n",
      " 1.97821691e+07 1.97646452e+07 1.97471953e+07 1.97298192e+07\n",
      " 1.97125165e+07 1.96952870e+07 1.96781302e+07 1.96610460e+07\n",
      " 1.96440339e+07 1.96270938e+07 1.96102252e+07 1.95934279e+07\n",
      " 1.95767016e+07 1.95600460e+07 1.95434608e+07 1.95269457e+07\n",
      " 1.95105003e+07 1.94941245e+07 1.94778178e+07 1.94615801e+07\n",
      " 1.94454110e+07 1.94293102e+07 1.94132775e+07 1.93973125e+07\n",
      " 1.93814150e+07 1.93655847e+07 1.93498212e+07 1.93341244e+07\n",
      " 1.93184940e+07 1.93029295e+07 1.92874309e+07 1.92719977e+07\n",
      " 1.92566298e+07 1.92413268e+07 1.92260885e+07 1.92109146e+07\n",
      " 1.91958048e+07 1.91807588e+07 1.91657765e+07 1.91508574e+07\n",
      " 1.91360014e+07 1.91212082e+07 1.91064775e+07 1.90918091e+07\n",
      " 1.90772026e+07 1.90626579e+07 1.90481747e+07 1.90337526e+07\n",
      " 1.90193915e+07 1.90050911e+07 1.89908511e+07 1.89766713e+07\n",
      " 1.89625514e+07 1.89484912e+07 1.89344904e+07 1.89205488e+07\n",
      " 1.89066661e+07 1.88928420e+07 1.88790764e+07 1.88653689e+07\n",
      " 1.88517194e+07 1.88381276e+07 1.88245932e+07 1.88111160e+07\n",
      " 1.87976957e+07 1.87843322e+07 1.87710252e+07 1.87577743e+07\n",
      " 1.87445795e+07 1.87314404e+07 1.87183569e+07 1.87053287e+07\n",
      " 1.86923555e+07 1.86794371e+07 1.86665733e+07 1.86537639e+07\n",
      " 1.86410086e+07 1.86283073e+07 1.86156596e+07 1.86030653e+07\n",
      " 1.85905243e+07 1.85780363e+07 1.85656010e+07 1.85532183e+07\n",
      " 1.85408879e+07 1.85286097e+07 1.85163833e+07 1.85042086e+07\n",
      " 1.84920853e+07 1.84800133e+07 1.84679923e+07 1.84560221e+07\n",
      " 1.84441025e+07 1.84322332e+07 1.84204141e+07 1.84086450e+07\n",
      " 1.83969256e+07 1.83852557e+07 1.83736352e+07 1.83620637e+07\n",
      " 1.83505411e+07 1.83390673e+07 1.83276419e+07 1.83162648e+07\n",
      " 1.83049358e+07 1.82936547e+07 1.82824212e+07 1.82712353e+07\n",
      " 1.82600965e+07 1.82490049e+07 1.82379601e+07 1.82269620e+07\n",
      " 1.82160104e+07 1.82051051e+07 1.81942458e+07 1.81834325e+07\n",
      " 1.81726648e+07 1.81619427e+07 1.81512658e+07 1.81406341e+07\n",
      " 1.81300473e+07 1.81195053e+07 1.81090078e+07 1.80985546e+07\n",
      " 1.80881457e+07 1.80777807e+07 1.80674595e+07 1.80571820e+07\n",
      " 1.80469478e+07 1.80367570e+07 1.80266092e+07 1.80165042e+07\n",
      " 1.80064420e+07 1.79964223e+07 1.79864450e+07 1.79765098e+07\n",
      " 1.79666166e+07 1.79567652e+07 1.79469554e+07 1.79371871e+07\n",
      " 1.79274601e+07 1.79177742e+07 1.79081292e+07 1.78985250e+07\n",
      " 1.78889613e+07 1.78794381e+07 1.78699551e+07 1.78605122e+07\n",
      " 1.78511092e+07 1.78417459e+07 1.78324223e+07 1.78231380e+07\n",
      " 1.78138929e+07 1.78046869e+07 1.77955198e+07 1.77863915e+07\n",
      " 1.77773017e+07 1.77682504e+07 1.77592373e+07 1.77502623e+07\n",
      " 1.77413252e+07 1.77324259e+07 1.77235642e+07 1.77147399e+07\n",
      " 1.77059530e+07 1.76972031e+07 1.76884903e+07 1.76798142e+07\n",
      " 1.76711749e+07 1.76625720e+07 1.76540055e+07 1.76454752e+07\n",
      " 1.76369810e+07 1.76285226e+07 1.76201000e+07 1.76117130e+07\n",
      " 1.76033614e+07 1.75950451e+07 1.75867640e+07 1.75785179e+07\n",
      " 1.75703066e+07 1.75621300e+07 1.75539879e+07 1.75458803e+07\n",
      " 1.75378069e+07 1.75297677e+07 1.75217624e+07 1.75137910e+07\n",
      " 1.75058532e+07 1.74979490e+07 1.74900782e+07 1.74822407e+07\n",
      " 1.74744363e+07 1.74666648e+07 1.74589262e+07 1.74512203e+07\n",
      " 1.74435470e+07 1.74359061e+07 1.74282975e+07 1.74207210e+07\n",
      " 1.74131766e+07 1.74056640e+07 1.73981832e+07 1.73907340e+07\n",
      " 1.73833163e+07 1.73759299e+07 1.73685748e+07 1.73612507e+07\n",
      " 1.73539576e+07 1.73466953e+07 1.73394637e+07 1.73322626e+07\n",
      " 1.73250920e+07 1.73179517e+07 1.73108415e+07 1.73037615e+07\n",
      " 1.72967113e+07 1.72896909e+07 1.72827002e+07 1.72757390e+07\n",
      " 1.72688073e+07 1.72619048e+07 1.72550315e+07 1.72481873e+07\n",
      " 1.72413720e+07 1.72345855e+07 1.72278276e+07 1.72210984e+07\n",
      " 1.72143975e+07 1.72077250e+07 1.72010807e+07 1.71944645e+07\n",
      " 1.71878762e+07 1.71813157e+07 1.71747830e+07 1.71682779e+07\n",
      " 1.71618003e+07 1.71553501e+07 1.71489271e+07 1.71425312e+07\n",
      " 1.71361624e+07 1.71298205e+07 1.71235054e+07 1.71172170e+07\n",
      " 1.71109552e+07 1.71047198e+07 1.70985108e+07 1.70923280e+07\n",
      " 1.70861713e+07 1.70800407e+07 1.70739360e+07 1.70678571e+07\n",
      " 1.70618038e+07 1.70557762e+07 1.70497740e+07 1.70437972e+07\n",
      " 1.70378456e+07 1.70319192e+07 1.70260178e+07 1.70201414e+07\n",
      " 1.70142898e+07 1.70084629e+07 1.70026607e+07 1.69968830e+07\n",
      " 1.69911297e+07 1.69854007e+07 1.69796959e+07 1.69740152e+07\n",
      " 1.69683586e+07 1.69627258e+07 1.69571169e+07 1.69515316e+07\n",
      " 1.69459700e+07 1.69404318e+07 1.69349171e+07 1.69294256e+07\n",
      " 1.69239574e+07 1.69185123e+07 1.69130902e+07 1.69076910e+07\n",
      " 1.69023146e+07 1.68969609e+07 1.68916299e+07 1.68863214e+07\n",
      " 1.68810353e+07 1.68757716e+07 1.68705301e+07 1.68653108e+07\n",
      " 1.68601135e+07 1.68549382e+07 1.68497848e+07 1.68446531e+07\n",
      " 1.68395431e+07 1.68344547e+07 1.68293878e+07 1.68243424e+07\n",
      " 1.68193182e+07 1.68143153e+07 1.68093335e+07 1.68043728e+07\n",
      " 1.67994331e+07 1.67945142e+07 1.67896161e+07 1.67847387e+07\n",
      " 1.67798819e+07 1.67750457e+07 1.67702298e+07 1.67654344e+07\n",
      " 1.67606592e+07 1.67559041e+07 1.67511692e+07 1.67464543e+07\n",
      " 1.67417593e+07 1.67370842e+07 1.67324288e+07 1.67277930e+07\n",
      " 1.67231769e+07 1.67185803e+07 1.67140031e+07 1.67094452e+07\n",
      " 1.67049067e+07 1.67003872e+07 1.66958869e+07 1.66914056e+07\n",
      " 1.66869433e+07 1.66824998e+07 1.66780751e+07 1.66736690e+07\n",
      " 1.66692816e+07 1.66649128e+07 1.66605624e+07 1.66562304e+07\n",
      " 1.66519167e+07 1.66476212e+07 1.66433439e+07 1.66390846e+07\n",
      " 1.66348434e+07 1.66306200e+07 1.66264146e+07 1.66222269e+07\n",
      " 1.66180569e+07 1.66139045e+07 1.66097696e+07 1.66056523e+07\n",
      " 1.66015523e+07 1.65974697e+07 1.65934043e+07 1.65893561e+07\n",
      " 1.65853250e+07 1.65813109e+07 1.65773138e+07 1.65733336e+07\n",
      " 1.65693702e+07 1.65654236e+07 1.65614936e+07 1.65575803e+07\n",
      " 1.65536835e+07 1.65498031e+07 1.65459392e+07 1.65420916e+07\n",
      " 1.65382602e+07 1.65344451e+07 1.65306460e+07 1.65268630e+07]\n"
     ]
    },
    {
     "name": "stderr",
     "output_type": "stream",
     "text": [
      "C:\\Users\\mendo\\AppData\\Local\\Temp\\ipykernel_13308\\1015018070.py:6: DeprecationWarning: Conversion of an array with ndim > 0 to a scalar is deprecated, and will error in future. Ensure you extract a single element from your array before performing this operation. (Deprecated NumPy 1.25.)\n",
      "  cost_history[n] = MSE(X, y, theta)\n"
     ]
    }
   ],
   "source": [
    "theta_final, cost_histroy = gradient_descent(X, y, theta, learning_rate, n_iterations)"
   ]
  },
  {
   "cell_type": "markdown",
   "metadata": {},
   "source": [
    "**Exercise :** \n",
    "1. Create a `predictions` variable that will store the result of `model(X, theta_final)`.\n",
    "2. Use matplotlib to display a scatter plot with the data and the target.\n",
    "3. On the same graph, use the `plot` method to display your predictions. "
   ]
  },
  {
   "cell_type": "code",
   "execution_count": 11,
   "metadata": {},
   "outputs": [
    {
     "data": {
      "text/plain": [
       "[<matplotlib.lines.Line2D at 0x242c5f41b90>]"
      ]
     },
     "execution_count": 11,
     "metadata": {},
     "output_type": "execute_result"
    },
    {
     "data": {
      "image/png": "[encoded data removed]",
      "text/plain": [
       "<Figure size 640x480 with 1 Axes>"
      ]
     },
     "metadata": {},
     "output_type": "display_data"
    }
   ],
   "source": [
    "import matplotlib.pyplot as plt\n",
    "\n",
    "predictions = model(X, theta_final)\n",
    "plt.scatter(x, y)\n",
    "plt.plot(x, predictions, c='r')"
   ]
  },
  {
   "cell_type": "markdown",
   "metadata": {},
   "source": [
    "You should have something like this. \n",
    "![](./assets/final_theta.png)"
   ]
  },
  {
   "cell_type": "markdown",
   "metadata": {},
   "source": [
    "If not, change the learning rate and the number of iterations."
   ]
  },
  {
   "cell_type": "markdown",
   "metadata": {},
   "source": [
    "### Learning curves\n",
    "To check if our gradient descent algorithm worked well, we observe the evolution of the cost function through iterations. We are supposed to obtain a curve that decreases with each iteration until it stagnates at a minimal level (close to zero). If the curve does not follow this pattern, then the learning rate may be too high, we should take a smaller step."
   ]
  },
  {
   "cell_type": "markdown",
   "metadata": {},
   "source": [
    "**Exercise :** \n",
    "1. Plot the `cost_history` with respect to the number of iterations."
   ]
  },
  {
   "cell_type": "code",
   "execution_count": 15,
   "metadata": {},
   "outputs": [
    {
     "data": {
      "text/plain": [
       "[<matplotlib.lines.Line2D at 0x242cadf5810>]"
      ]
     },
     "execution_count": 15,
     "metadata": {},
     "output_type": "execute_result"
    },
    {
     "data": {
      "image/png": "[encoded data removed]",
      "text/plain": [
       "<Figure size 640x480 with 1 Axes>"
      ]
     },
     "metadata": {},
     "output_type": "display_data"
    }
   ],
   "source": [
    "plt.plot(range(n_iterations),cost_histroy)"
   ]
  },
  {
   "cell_type": "markdown",
   "metadata": {},
   "source": [
    "You should have something like this: \n",
    "![](./assets/learning_curve.png)"
   ]
  },
  {
   "cell_type": "markdown",
   "metadata": {},
   "source": [
    "On this plot, we can see that after 400 iterations, the model no longer learns and becomes constant. We can thus redefine the maximum number of iterations to 400."
   ]
  },
  {
   "cell_type": "markdown",
   "metadata": {},
   "source": [
    "### Evaluation\n",
    "\n",
    "To evaluate the real performance of our model with a popular metric (for your boss, client, or colleagues) we can use the coefficient of determination, also known as $R^2$. It comes from the method of least squares. The closer the result is to 1, the better your model is."
   ]
  },
  {
   "cell_type": "code",
   "execution_count": 16,
   "metadata": {},
   "outputs": [],
   "source": [
    "def coef_determination(y, pred):\n",
    "    u = ((y - pred)**2).sum()\n",
    "    v = ((y - y.mean())**2).sum()\n",
    "    return 1 - u/v"
   ]
  },
  {
   "cell_type": "code",
   "execution_count": 17,
   "metadata": {},
   "outputs": [
    {
     "data": {
      "text/plain": [
       "0.9545027396203364"
      ]
     },
     "execution_count": 17,
     "metadata": {},
     "output_type": "execute_result"
    }
   ],
   "source": [
    "coef_determination(y, predictions)"
   ]
  },
  {
   "cell_type": "markdown",
   "metadata": {},
   "source": [
    "### The end\n",
    "Ok ok, you just built your own model of linear regression, do you realize that? \n",
    "This part was a bit theoretical, but it's essential to understand how it works.  \n",
    "![tired.gif](./assets/tired.gif)"
   ]
  }
 ],
 "metadata": {
  "colab": {
   "collapsed_sections": [],
   "name": "Copie de linearregression.ipynb",
   "provenance": []
  },
  "kernelspec": {
   "display_name": "Python 3",
   "language": "python",
   "name": "python3"
  },
  "language_info": {
   "codemirror_mode": {
    "name": "ipython",
    "version": 3
   },
   "file_extension": ".py",
   "mimetype": "text/x-python",
   "name": "python",
   "nbconvert_exporter": "python",
   "pygments_lexer": "ipython3",
   "version": "3.11.4"
  }
 },
 "nbformat": 4,
 "nbformat_minor": 1
}
