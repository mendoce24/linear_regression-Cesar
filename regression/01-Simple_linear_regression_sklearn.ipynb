{
 "cells": [
  {
   "cell_type": "markdown",
   "metadata": {},
   "source": [
    "# Linear regression\n",
    "\n",
    "Linear regression is the simplest model of machine learning. \n",
    "The purpose of regression is to explain and predict a variable $y$ using a variable $x$ (or several variables $x_{(1)}$, ...,$x_{(n)}$ ).  \n",
    "\n",
    "The variable $y$ is called the **target** (dependent variable) , and the variables $x$ are called  **feature(s)** (independent variables).\n",
    "\n",
    "By convention, we call the number of rows $m$. The number of features is represented by $n$.\n",
    "\n",
    "In this example, $m=7$ and $n=3$.\n",
    "\n",
    "Note:\n",
    "\n",
    "In this notebook, every time we will talk about programming variables, we will format the names like `this`. \n",
    "For mathematical variables and functions, we'll be formatting them like $this$."
   ]
  },
  {
   "cell_type": "markdown",
   "metadata": {},
   "source": [
    "![image dataset](./assets/example_data.png)"
   ]
  },
  {
   "cell_type": "markdown",
   "metadata": {},
   "source": [
    "## Modeling the problem\n",
    "In this chapter, we will analyze simple linear regression on an example. This presentation will allow us to explain linear regression in a simple case in order to understand the stakes of this method, the problems posed and the answers brought.\n",
    "\n",
    "Let's take this dataset which contains data on an employee's salary based on his years of experience."
   ]
  },
  {
   "cell_type": "code",
   "execution_count": 3,
   "metadata": {},
   "outputs": [],
   "source": [
    "import pandas as pd\n",
    "import numpy as np\n",
    "\n",
    "df = pd.read_csv(\"./data/salary_data.csv\")"
   ]
  },
  {
   "cell_type": "code",
   "execution_count": 4,
   "metadata": {},
   "outputs": [
    {
     "data": {
      "text/html": [
       "<div>\n",
       "<style scoped>\n",
       "    .dataframe tbody tr th:only-of-type {\n",
       "        vertical-align: middle;\n",
       "    }\n",
       "\n",
       "    .dataframe tbody tr th {\n",
       "        vertical-align: top;\n",
       "    }\n",
       "\n",
       "    .dataframe thead th {\n",
       "        text-align: right;\n",
       "    }\n",
       "</style>\n",
       "<table border=\"1\" class=\"dataframe\">\n",
       "  <thead>\n",
       "    <tr style=\"text-align: right;\">\n",
       "      <th></th>\n",
       "      <th>YearsExperience</th>\n",
       "      <th>Salary</th>\n",
       "    </tr>\n",
       "  </thead>\n",
       "  <tbody>\n",
       "    <tr>\n",
       "      <th>0</th>\n",
       "      <td>1.1</td>\n",
       "      <td>39343</td>\n",
       "    </tr>\n",
       "    <tr>\n",
       "      <th>1</th>\n",
       "      <td>1.3</td>\n",
       "      <td>46205</td>\n",
       "    </tr>\n",
       "    <tr>\n",
       "      <th>2</th>\n",
       "      <td>1.5</td>\n",
       "      <td>37731</td>\n",
       "    </tr>\n",
       "    <tr>\n",
       "      <th>3</th>\n",
       "      <td>2.0</td>\n",
       "      <td>43525</td>\n",
       "    </tr>\n",
       "    <tr>\n",
       "      <th>4</th>\n",
       "      <td>2.2</td>\n",
       "      <td>39891</td>\n",
       "    </tr>\n",
       "  </tbody>\n",
       "</table>\n",
       "</div>"
      ],
      "text/plain": [
       "   YearsExperience  Salary\n",
       "0              1.1   39343\n",
       "1              1.3   46205\n",
       "2              1.5   37731\n",
       "3              2.0   43525\n",
       "4              2.2   39891"
      ]
     },
     "execution_count": 4,
     "metadata": {},
     "output_type": "execute_result"
    }
   ],
   "source": [
    "df.head()"
   ]
  },
  {
   "cell_type": "markdown",
   "metadata": {},
   "source": [
    "**Exercise :** Find the values of $m$ and $n$ of this dataset."
   ]
  },
  {
   "cell_type": "code",
   "execution_count": 5,
   "metadata": {},
   "outputs": [
    {
     "name": "stdout",
     "output_type": "stream",
     "text": [
      "m 30\n",
      "n 2\n",
      "       YearsExperience         Salary\n",
      "count        30.000000      30.000000\n",
      "mean          5.313333   76003.000000\n",
      "std           2.837888   27414.429785\n",
      "min           1.100000   37731.000000\n",
      "25%           3.200000   56720.750000\n",
      "50%           4.700000   65237.000000\n",
      "75%           7.700000  100544.750000\n",
      "max          10.500000  122391.000000\n"
     ]
    }
   ],
   "source": [
    "print('m', len(df))\n",
    "print('n', len(df.columns))\n",
    "print(df.describe())"
   ]
  },
  {
   "cell_type": "markdown",
   "metadata": {},
   "source": [
    "### 1. Goals\n",
    "We want to know whether, in general, years of experience have an influence on the wage and in what form this influence can be expressed. The goal is to better explain how wages vary with years of experience and possibly to predict wages based on years of experience."
   ]
  },
  {
   "cell_type": "markdown",
   "metadata": {},
   "source": [
    "### 2. Variables studied\n",
    "In this example, we are going to do a simple regression and we will therefore define two variables.\n",
    "- The variable `y` is the variable that must be regressed. The target to be predicted.\n",
    "\n",
    "- The variable `X` which will be the explanatory variable. The feature.\n",
    "\n",
    "The unofficial convention is to have uppercase `X` because it will usually be a 2D array (multiple features). However it's not the case here. `y` is lower case because it's just a 1D vector."
   ]
  },
  {
   "cell_type": "markdown",
   "metadata": {},
   "source": [
    "**Exercise :**  Create the `X` and `y` variables and define which column will be the target and which column will be the feature.  \n",
    "Variables `X` and `y` be must of type `numpy.ndarray`"
   ]
  },
  {
   "cell_type": "code",
   "execution_count": 6,
   "metadata": {},
   "outputs": [
    {
     "name": "stdout",
     "output_type": "stream",
     "text": [
      "[[39343]\n",
      " [46205]\n",
      " [37731]\n",
      " [43525]\n",
      " [39891]\n",
      " [56642]\n",
      " [60150]\n",
      " [54445]\n",
      " [64445]\n",
      " [57189]]\n",
      "[[1.1]\n",
      " [1.3]\n",
      " [1.5]\n",
      " [2. ]\n",
      " [2.2]\n",
      " [2.9]\n",
      " [3. ]\n",
      " [3.2]\n",
      " [3.2]\n",
      " [3.7]]\n"
     ]
    }
   ],
   "source": [
    "x = np.array(df.drop(columns=[\"Salary\"]))\n",
    "y = np.array(df.Salary).reshape((-1 , 1))\n",
    "\n",
    "print(y[:10])\n",
    "print(x[:10])"
   ]
  },
  {
   "cell_type": "markdown",
   "metadata": {},
   "source": [
    "### 3. Relationship between variables\n",
    "Now it is a question of finding the type of relationship between the two variables.\n",
    "\n",
    "To do so, we will display in a scatter plot (randomly generated) variables that may or may not have any link between each other. Let's see what kind of relation we can obtain.\n"
   ]
  },
  {
   "cell_type": "markdown",
   "metadata": {},
   "source": [
    "**No correlation.**  \n",
    "\n",
    "Very rounded scatter plot, there is no apparent relationship.\n",
    "![](./assets/scatter_plot_0.png)"
   ]
  },
  {
   "cell_type": "markdown",
   "metadata": {},
   "source": [
    "**Positive linear correlation.**  \n",
    "Very stretched scatter plot. The cloud has a very marked linear shape. There is a tendency for the two variables to vary in the same direction. The observed correlation is positive.\n",
    "\n",
    "![](./assets/scatter_plot_1.png)"
   ]
  },
  {
   "cell_type": "markdown",
   "metadata": {},
   "source": [
    "**Negative Linear correlation.**  \n",
    "The scatterplot is moderately stretched (linear form but less marked), from top left to bottom right: one observes on the sample a tendency of the variables to vary in opposite directions, the observed correlation is negative.\n",
    "\n",
    "![](./assets/scatter_plot_2.png)"
   ]
  },
  {
   "cell_type": "markdown",
   "metadata": {},
   "source": [
    "**Perfect non-linear correlation.**  \n",
    "The points are on a non-linear (parabolic) curve. The correlation observed is perfect, however it's non-linear. There is no monotonicity: the curve is first decreasing and then increasing.\n",
    "\n",
    "![](./assets/scatter_plot_3.png)"
   ]
  },
  {
   "cell_type": "markdown",
   "metadata": {},
   "source": [
    "Now let's visualize our dataset on a scatter plot:\n",
    "\n",
    "**Exercise :** Create a scatter plot with matplotlib and the `X` and `y` data.  \n",
    "Add the label salary for the y-axis and number of years of experience for the x-axis."
   ]
  },
  {
   "cell_type": "code",
   "execution_count": 7,
   "metadata": {},
   "outputs": [
    {
     "data": {
      "text/plain": [
       "<matplotlib.collections.PathCollection at 0x23188ecd2d0>"
      ]
     },
     "execution_count": 7,
     "metadata": {},
     "output_type": "execute_result"
    },
    {
     "data": {
      "image/png": "[encoded data removed]",
      "text/plain": [
       "<Figure size 640x480 with 1 Axes>"
      ]
     },
     "metadata": {},
     "output_type": "display_data"
    }
   ],
   "source": [
    "import matplotlib.pyplot as plt\n",
    "\n",
    "plt.xlabel(\"years of experience\")\n",
    "plt.ylabel(\"salary\")\n",
    "plt.scatter(x, y, color = \"m\", marker = \"o\", s = 30)\n",
    "\n"
   ]
  },
  {
   "cell_type": "markdown",
   "metadata": {},
   "source": [
    "You should see the stretched and increasing shape of the scatter plot suggesting a linear-type positive correlation."
   ]
  },
  {
   "cell_type": "markdown",
   "metadata": {},
   "source": [
    "We can also check the correlation rate between the variables. \n",
    "\n",
    "**Exercise :** Display the correlation rate between the two variables. "
   ]
  },
  {
   "cell_type": "code",
   "execution_count": null,
   "metadata": {},
   "outputs": [],
   "source": []
  },
  {
   "cell_type": "markdown",
   "metadata": {},
   "source": [
    "### 4. Split the dataset"
   ]
  },
  {
   "cell_type": "markdown",
   "metadata": {},
   "source": [
    "The train-test split procedure is used to estimate the performance of machine learning algorithms when they are used to make predictions on data not used to train the model.\n",
    "\n",
    "It is a fast and easy procedure to perform, the results of which allow you to compare the performance of machine learning algorithms for your predictive modeling problem.\n",
    "\n",
    "Generally, the training dataset contains 80% of the whole dataset. The remaining 20% is for the test dataset.\n",
    "\n",
    "**Exercise :** Import `train_test_split` from `sklearn` and split the dataset and create the variables `X_train`, `X_test`, `y_train`, `y_test`."
   ]
  },
  {
   "cell_type": "code",
   "execution_count": 9,
   "metadata": {},
   "outputs": [
    {
     "ename": "ModuleNotFoundError",
     "evalue": "No module named 'sklearn'",
     "output_type": "error",
     "traceback": [
      "\u001b[1;31m---------------------------------------------------------------------------\u001b[0m",
      "\u001b[1;31mModuleNotFoundError\u001b[0m                       Traceback (most recent call last)",
      "Cell \u001b[1;32mIn[9], line 1\u001b[0m\n\u001b[1;32m----> 1\u001b[0m \u001b[39mfrom\u001b[39;00m \u001b[39msklearn\u001b[39;00m \u001b[39mimport\u001b[39;00m train_test_split\n\u001b[0;32m      3\u001b[0m X_train, X_test, y_train, y_test \u001b[39m=\u001b[39m train_test_split(x, y, test_size\u001b[39m=\u001b[39m\u001b[39m0.33\u001b[39m, random_state\u001b[39m=\u001b[39m\u001b[39m42\u001b[39m)\n",
      "\u001b[1;31mModuleNotFoundError\u001b[0m: No module named 'sklearn'"
     ]
    }
   ],
   "source": [
    "from sklearn.model_selection import train_test_split\n",
    "\n",
    "X_train, X_test, y_train, y_test = train_test_split(x, y, test_size=0.33, random_state=42)"
   ]
  },
  {
   "cell_type": "markdown",
   "metadata": {},
   "source": [
    "### 5. Load and fit the model\n",
    "\n",
    "We could see that the Linear Model could help us make good generalizations about our dataset. However, our model has to train several times on our training set. It is therefore an iterative algorithm. And at each iteration, the algorithm will calculate the error rate of the mean of the trained data set. The algorithm will then try to regress this error rate until it is as small as possible. \n",
    "\n",
    "But we are lucky because the sklearn library already has a ready-made linear model that minimizes this error rate. \n",
    "\n",
    "**Exercise :** \n",
    "1. Import `LinearRegression` from sklearn.\n",
    "2. Create a `regressor` variable and instantiate your `LinearRegression` class.\n",
    "2. Train your model with `X_train` and `y_train`."
   ]
  },
  {
   "cell_type": "code",
   "execution_count": null,
   "metadata": {},
   "outputs": [],
   "source": []
  },
  {
   "cell_type": "markdown",
   "metadata": {},
   "source": [
    "OK, your model is trained.   \n",
    "But let's check if our model is efficient. To do this we can display the score of our model. That is to say the number of correct predictions that our model was able to make."
   ]
  },
  {
   "cell_type": "markdown",
   "metadata": {},
   "source": [
    "**Exercise :** Display the score of your model with `X_train` and `y_train`."
   ]
  },
  {
   "cell_type": "code",
   "execution_count": null,
   "metadata": {},
   "outputs": [],
   "source": []
  },
  {
   "cell_type": "markdown",
   "metadata": {},
   "source": [
    "Do you have a score above 90% ?   \n",
    "That's not bad! But let's now check if our model can make generalizations about data it has never seen before. "
   ]
  },
  {
   "cell_type": "markdown",
   "metadata": {},
   "source": [
    "### 6. Test your model\n",
    "The `X_test` and `y_test` sets were previously created. Now it is time to use them. \n",
    "\n",
    "**Exercise :** Use the `predict` method of your model on your test dataset (`X_test`)."
   ]
  },
  {
   "cell_type": "code",
   "execution_count": null,
   "metadata": {},
   "outputs": [],
   "source": []
  },
  {
   "cell_type": "markdown",
   "metadata": {},
   "source": [
    "**Exercise :** Display the score of your model with `X_test` and `y_test`."
   ]
  },
  {
   "cell_type": "code",
   "execution_count": null,
   "metadata": {},
   "outputs": [],
   "source": []
  },
  {
   "cell_type": "markdown",
   "metadata": {},
   "source": [
    "What's your score? Is it higher than 90%? Awesome!  \n",
    "To make it more meaningful, we are going to visualize the training and testing of your model.  \n",
    "\n",
    "**Exercise :** \n",
    "1. Plot `regressor.predict(X_train)`\n",
    "2. Plot the training set on top of it.\n",
    "3. Add the title \"Salary VS Experience (Training set)\"\n",
    "4. Add the label \"Years of Experience\" on the x-axis and \"Salary\" on the y-axis\n"
   ]
  },
  {
   "cell_type": "code",
   "execution_count": null,
   "metadata": {},
   "outputs": [],
   "source": []
  },
  {
   "cell_type": "markdown",
   "metadata": {},
   "source": [
    "The expected result should look like this: \n",
    "![train_plot](./assets/trainplot.png)"
   ]
  },
  {
   "cell_type": "markdown",
   "metadata": {},
   "source": [
    "**Exercise :** Do the same with `X_test`!  \n",
    "1. Plot `regressor.predict(X_test)`\n",
    "2. Plot the testing set on top of it.\n",
    "3. Add the title \"Salary VS Experience (Test set)\"\n",
    "4. Add the label \"Years of Experience\" on the x-axis and \"Salary\" on the y-axis"
   ]
  },
  {
   "cell_type": "markdown",
   "metadata": {},
   "source": [
    "The expected result should look like this:\n",
    "![testplot.png](./assets/testplot.png)"
   ]
  },
  {
   "cell_type": "markdown",
   "metadata": {},
   "source": [
    "**Exercise :** Have fun testing your model by entering new data. To give you an example, according to my model, when I have 210 years of experience, I will earn a salary of 1,982,420 / year. I'm looking forward to reaching that many years of experience 😎."
   ]
  },
  {
   "cell_type": "code",
   "execution_count": null,
   "metadata": {},
   "outputs": [],
   "source": []
  },
  {
   "cell_type": "markdown",
   "metadata": {},
   "source": [
    "Congratulations to you! You have just created your first learning machine model. "
   ]
  },
  {
   "cell_type": "markdown",
   "metadata": {
    "scrolled": false
   },
   "source": [
    "![bravo](./assets/bravo.gif)"
   ]
  }
 ],
 "metadata": {
  "kernelspec": {
   "display_name": "Python 3",
   "language": "python",
   "name": "python3"
  },
  "language_info": {
   "codemirror_mode": {
    "name": "ipython",
    "version": 3
   },
   "file_extension": ".py",
   "mimetype": "text/x-python",
   "name": "python",
   "nbconvert_exporter": "python",
   "pygments_lexer": "ipython3",
   "version": "3.11.4"
  }
 },
 "nbformat": 4,
 "nbformat_minor": 4
}
